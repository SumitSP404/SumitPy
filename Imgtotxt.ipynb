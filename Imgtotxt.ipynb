{
 "cells": [
  {
   "cell_type": "code",
   "execution_count": 1,
   "id": "bda30543",
   "metadata": {},
   "outputs": [
    {
     "name": "stdout",
     "output_type": "stream",
     "text": [
      "Collecting pytesseract\n",
      "  Downloading pytesseract-0.3.10-py3-none-any.whl (14 kB)\n",
      "Requirement already satisfied: Pillow>=8.0.0 in c:\\users\\sumit purandare\\anaconda3\\lib\\site-packages (from pytesseract) (9.0.1)\n",
      "Requirement already satisfied: packaging>=21.3 in c:\\users\\sumit purandare\\anaconda3\\lib\\site-packages (from pytesseract) (21.3)\n",
      "Requirement already satisfied: pyparsing!=3.0.5,>=2.0.2 in c:\\users\\sumit purandare\\anaconda3\\lib\\site-packages (from packaging>=21.3->pytesseract) (3.0.4)\n",
      "Installing collected packages: pytesseract\n",
      "Successfully installed pytesseract-0.3.10\n",
      "Note: you may need to restart the kernel to use updated packages.\n"
     ]
    }
   ],
   "source": [
    "pip install pytesseract"
   ]
  },
  {
   "cell_type": "code",
   "execution_count": 4,
   "id": "efb2eaec",
   "metadata": {},
   "outputs": [
    {
     "name": "stdout",
     "output_type": "stream",
     "text": [
      "Load a video\n",
      "Play a video\n",
      "Pause a video\n",
      "Play next\n",
      "Play previous\n",
      "\n"
     ]
    },
    {
     "data": {
      "text/plain": [
       "-1"
      ]
     },
     "execution_count": 4,
     "metadata": {},
     "output_type": "execute_result"
    }
   ],
   "source": [
    "import speech_recognition as sr\n",
    "from gtts import gTTS\n",
    "from pygame import mixer\n",
    "import os\n",
    "import pytesseract\n",
    "import cv2\n",
    "pytesseract.pytesseract.tessaract_cmd=r\"C:\\Program Files\\Tesseract-OCR\\tesseract.exe\"\n",
    "img=cv2.imread(r\"C:\\Users\\Sumit Purandare\\OneDrive\\Pictures\\s13.png\")\n",
    "img=cv2.re\n",
    "test=pytesseract.image_to_string(img)\n",
    "print(test)\n",
    "\n",
    "cv2.waitKey(0)\n"
   ]
  },
  {
   "cell_type": "code",
   "execution_count": 4,
   "id": "c1e9057d",
   "metadata": {},
   "outputs": [
    {
     "name": "stdout",
     "output_type": "stream",
     "text": [
      "say something!…\n",
      "the audio has been recorded\n",
      "api is enabled\n",
      "result2:\n",
      "{   'alternative': [   {'confidence': 0.74248081, 'transcript': 'how are you'},\n",
      "                       {'transcript': 'how r u'},\n",
      "                       {'transcript': 'how are u'},\n",
      "                       {'transcript': 'how are you are'},\n",
      "                       {'transcript': 'how are you a'}],\n",
      "    'final': True}\n",
      "You said: how are you\n"
     ]
    }
   ],
   "source": [
    "import speech_recognition as sr\n",
    "from gtts import gTTS\n",
    "from pygame import mixer\n",
    "import os\n",
    "recognizer = sr.Recognizer()\n",
    "mic = sr.Microphone()\n",
    "mixer.init()\n",
    "mixer.music.load('test.mp3')\n",
    "recog = ''\n",
    "with mic as source:\n",
    "    print(\"say something!…\")\n",
    "    audio = recognizer.adjust_for_ambient_noise(source)\n",
    "    audio = recognizer.listen(source, 10, 3)\n",
    "    print(\"the audio has been recorded\")\n",
    "# Speech recognition using Google Speech Recognition\n",
    "    try:\n",
    "        print(\"api is enabled\")\n",
    "        recog = recognizer.recognize_google(audio, language = 'en-US')\n",
    "        # for testing purposes, we're just using the default API key\n",
    "        # to use another API key, use r.recognize_google(audio)\n",
    "        # instead of r.recognize_google(audio)\n",
    "\n",
    "        print(\"You said: \" + recog)\n",
    "        var = recog\n",
    "        tts = gTTS(var)\n",
    "        tts.save(\"output.mp3\")\n",
    "        mixer.music.load('output.mp3')\n",
    "        mixer.music.play()\n",
    "        while mixer.music.get_busy():\n",
    "             pass\n",
    "        mixer.music.load('test.mp3')\n",
    "        os.remove(\"output.mp3\")\n",
    "    except sr.UnknownValueError:\n",
    "        print(\"Google Speech Recognition could not understand audio\")\n",
    "    except sr.RequestError as e:\n",
    "        print(\"Could not request results from Google Speech Recognition service; {0}\".format(e))"
   ]
  },
  {
   "cell_type": "code",
   "execution_count": 5,
   "id": "347bb188",
   "metadata": {},
   "outputs": [
    {
     "name": "stdout",
     "output_type": "stream",
     "text": [
      "please speak now\n",
      "process is going on\n",
      "result2:\n",
      "{   'alternative': [   {   'confidence': 0.85107327,\n",
      "                           'transcript': 'hello how are you'},\n",
      "                       {'transcript': 'hello how r u'},\n",
      "                       {'transcript': 'hello how are u'},\n",
      "                       {'transcript': 'hello how are you are'},\n",
      "                       {'transcript': 'hello how are you a'}],\n",
      "    'final': True}\n"
     ]
    },
    {
     "ename": "TypeError",
     "evalue": "'fp' is not a file-like object or it does not take bytes: 'AudioData' object has no attribute 'strip'",
     "output_type": "error",
     "traceback": [
      "\u001b[1;31m---------------------------------------------------------------------------\u001b[0m",
      "\u001b[1;31mAttributeError\u001b[0m                            Traceback (most recent call last)",
      "File \u001b[1;32m~\\anaconda3\\lib\\site-packages\\gtts\\tts.py:310\u001b[0m, in \u001b[0;36mgTTS.write_to_fp\u001b[1;34m(self, fp)\u001b[0m\n\u001b[0;32m    309\u001b[0m \u001b[38;5;28;01mtry\u001b[39;00m:\n\u001b[1;32m--> 310\u001b[0m     \u001b[38;5;28;01mfor\u001b[39;00m idx, decoded \u001b[38;5;129;01min\u001b[39;00m \u001b[38;5;28menumerate\u001b[39m(\u001b[38;5;28mself\u001b[39m\u001b[38;5;241m.\u001b[39mstream()):\n\u001b[0;32m    311\u001b[0m         fp\u001b[38;5;241m.\u001b[39mwrite(decoded)\n",
      "File \u001b[1;32m~\\anaconda3\\lib\\site-packages\\gtts\\tts.py:260\u001b[0m, in \u001b[0;36mgTTS.stream\u001b[1;34m(self)\u001b[0m\n\u001b[0;32m    258\u001b[0m     \u001b[38;5;28;01mpass\u001b[39;00m\n\u001b[1;32m--> 260\u001b[0m prepared_requests \u001b[38;5;241m=\u001b[39m \u001b[38;5;28;43mself\u001b[39;49m\u001b[38;5;241;43m.\u001b[39;49m\u001b[43m_prepare_requests\u001b[49m\u001b[43m(\u001b[49m\u001b[43m)\u001b[49m\n\u001b[0;32m    261\u001b[0m \u001b[38;5;28;01mfor\u001b[39;00m idx, pr \u001b[38;5;129;01min\u001b[39;00m \u001b[38;5;28menumerate\u001b[39m(prepared_requests):\n",
      "File \u001b[1;32m~\\anaconda3\\lib\\site-packages\\gtts\\tts.py:206\u001b[0m, in \u001b[0;36mgTTS._prepare_requests\u001b[1;34m(self)\u001b[0m\n\u001b[0;32m    202\u001b[0m translate_url \u001b[38;5;241m=\u001b[39m _translate_url(\n\u001b[0;32m    203\u001b[0m     tld\u001b[38;5;241m=\u001b[39m\u001b[38;5;28mself\u001b[39m\u001b[38;5;241m.\u001b[39mtld, path\u001b[38;5;241m=\u001b[39m\u001b[38;5;124m\"\u001b[39m\u001b[38;5;124m_/TranslateWebserverUi/data/batchexecute\u001b[39m\u001b[38;5;124m\"\u001b[39m\n\u001b[0;32m    204\u001b[0m )\n\u001b[1;32m--> 206\u001b[0m text_parts \u001b[38;5;241m=\u001b[39m \u001b[38;5;28;43mself\u001b[39;49m\u001b[38;5;241;43m.\u001b[39;49m\u001b[43m_tokenize\u001b[49m\u001b[43m(\u001b[49m\u001b[38;5;28;43mself\u001b[39;49m\u001b[38;5;241;43m.\u001b[39;49m\u001b[43mtext\u001b[49m\u001b[43m)\u001b[49m\n\u001b[0;32m    207\u001b[0m log\u001b[38;5;241m.\u001b[39mdebug(\u001b[38;5;124m\"\u001b[39m\u001b[38;5;124mtext_parts: \u001b[39m\u001b[38;5;132;01m%s\u001b[39;00m\u001b[38;5;124m\"\u001b[39m, \u001b[38;5;28mstr\u001b[39m(text_parts))\n",
      "File \u001b[1;32m~\\anaconda3\\lib\\site-packages\\gtts\\tts.py:168\u001b[0m, in \u001b[0;36mgTTS._tokenize\u001b[1;34m(self, text)\u001b[0m\n\u001b[0;32m    166\u001b[0m \u001b[38;5;28;01mdef\u001b[39;00m \u001b[38;5;21m_tokenize\u001b[39m(\u001b[38;5;28mself\u001b[39m, text):\n\u001b[0;32m    167\u001b[0m     \u001b[38;5;66;03m# Pre-clean\u001b[39;00m\n\u001b[1;32m--> 168\u001b[0m     text \u001b[38;5;241m=\u001b[39m \u001b[43mtext\u001b[49m\u001b[38;5;241;43m.\u001b[39;49m\u001b[43mstrip\u001b[49m()\n\u001b[0;32m    170\u001b[0m     \u001b[38;5;66;03m# Apply pre-processors\u001b[39;00m\n",
      "\u001b[1;31mAttributeError\u001b[0m: 'AudioData' object has no attribute 'strip'",
      "\nDuring handling of the above exception, another exception occurred:\n",
      "\u001b[1;31mTypeError\u001b[0m                                 Traceback (most recent call last)",
      "Input \u001b[1;32mIn [5]\u001b[0m, in \u001b[0;36m<cell line: 3>\u001b[1;34m()\u001b[0m\n\u001b[0;32m      9\u001b[0m \u001b[38;5;28mprint\u001b[39m(\u001b[38;5;124m\"\u001b[39m\u001b[38;5;124mprocess is going on\u001b[39m\u001b[38;5;124m\"\u001b[39m)\n\u001b[0;32m     10\u001b[0m result\u001b[38;5;241m=\u001b[39mrecognizer\u001b[38;5;241m.\u001b[39mrecognize_google(listening,language\u001b[38;5;241m=\u001b[39m\u001b[38;5;124m\"\u001b[39m\u001b[38;5;124mEn\u001b[39m\u001b[38;5;124m\"\u001b[39m)\n\u001b[1;32m---> 11\u001b[0m \u001b[43mtts\u001b[49m\u001b[38;5;241;43m.\u001b[39;49m\u001b[43msave\u001b[49m\u001b[43m(\u001b[49m\u001b[38;5;124;43m\"\u001b[39;49m\u001b[38;5;124;43moutput1.mp3\u001b[39;49m\u001b[38;5;124;43m\"\u001b[39;49m\u001b[43m)\u001b[49m\n\u001b[0;32m     12\u001b[0m mixer\u001b[38;5;241m.\u001b[39mmusic\u001b[38;5;241m.\u001b[39mset_volume(\u001b[38;5;241m1\u001b[39m)\n\u001b[0;32m     13\u001b[0m mixer\u001b[38;5;241m.\u001b[39mmusic\u001b[38;5;241m.\u001b[39mload(\u001b[38;5;124m'\u001b[39m\u001b[38;5;124moutput1.mp3\u001b[39m\u001b[38;5;124m'\u001b[39m)\n",
      "File \u001b[1;32m~\\anaconda3\\lib\\site-packages\\gtts\\tts.py:329\u001b[0m, in \u001b[0;36mgTTS.save\u001b[1;34m(self, savefile)\u001b[0m\n\u001b[0;32m    319\u001b[0m \u001b[38;5;124;03m\"\"\"Do the TTS API request and write result to file.\u001b[39;00m\n\u001b[0;32m    320\u001b[0m \n\u001b[0;32m    321\u001b[0m \u001b[38;5;124;03mArgs:\u001b[39;00m\n\u001b[1;32m   (...)\u001b[0m\n\u001b[0;32m    326\u001b[0m \n\u001b[0;32m    327\u001b[0m \u001b[38;5;124;03m\"\"\"\u001b[39;00m\n\u001b[0;32m    328\u001b[0m \u001b[38;5;28;01mwith\u001b[39;00m \u001b[38;5;28mopen\u001b[39m(\u001b[38;5;28mstr\u001b[39m(savefile), \u001b[38;5;124m\"\u001b[39m\u001b[38;5;124mwb\u001b[39m\u001b[38;5;124m\"\u001b[39m) \u001b[38;5;28;01mas\u001b[39;00m f:\n\u001b[1;32m--> 329\u001b[0m     \u001b[38;5;28;43mself\u001b[39;49m\u001b[38;5;241;43m.\u001b[39;49m\u001b[43mwrite_to_fp\u001b[49m\u001b[43m(\u001b[49m\u001b[43mf\u001b[49m\u001b[43m)\u001b[49m\n\u001b[0;32m    330\u001b[0m     log\u001b[38;5;241m.\u001b[39mdebug(\u001b[38;5;124m\"\u001b[39m\u001b[38;5;124mSaved to \u001b[39m\u001b[38;5;132;01m%s\u001b[39;00m\u001b[38;5;124m\"\u001b[39m, savefile)\n",
      "File \u001b[1;32m~\\anaconda3\\lib\\site-packages\\gtts\\tts.py:314\u001b[0m, in \u001b[0;36mgTTS.write_to_fp\u001b[1;34m(self, fp)\u001b[0m\n\u001b[0;32m    312\u001b[0m         log\u001b[38;5;241m.\u001b[39mdebug(\u001b[38;5;124m\"\u001b[39m\u001b[38;5;124mpart-\u001b[39m\u001b[38;5;132;01m%i\u001b[39;00m\u001b[38;5;124m written to \u001b[39m\u001b[38;5;132;01m%s\u001b[39;00m\u001b[38;5;124m\"\u001b[39m, idx, fp)\n\u001b[0;32m    313\u001b[0m \u001b[38;5;28;01mexcept\u001b[39;00m (\u001b[38;5;167;01mAttributeError\u001b[39;00m, \u001b[38;5;167;01mTypeError\u001b[39;00m) \u001b[38;5;28;01mas\u001b[39;00m e:\n\u001b[1;32m--> 314\u001b[0m     \u001b[38;5;28;01mraise\u001b[39;00m \u001b[38;5;167;01mTypeError\u001b[39;00m(\n\u001b[0;32m    315\u001b[0m         \u001b[38;5;124m\"\u001b[39m\u001b[38;5;124m'\u001b[39m\u001b[38;5;124mfp\u001b[39m\u001b[38;5;124m'\u001b[39m\u001b[38;5;124m is not a file-like object or it does not take bytes: \u001b[39m\u001b[38;5;132;01m%s\u001b[39;00m\u001b[38;5;124m\"\u001b[39m \u001b[38;5;241m%\u001b[39m \u001b[38;5;28mstr\u001b[39m(e)\n\u001b[0;32m    316\u001b[0m     )\n",
      "\u001b[1;31mTypeError\u001b[0m: 'fp' is not a file-like object or it does not take bytes: 'AudioData' object has no attribute 'strip'"
     ]
    }
   ],
   "source": [
    "recognizer = sr.Recognizer()\n",
    "mixer.init()\n",
    "with sr.Microphone() as mic:\n",
    "    while True:\n",
    "        print(\"please speak now\")\n",
    "    #var=input(\"type here\")\n",
    "        listening=recognizer.listen(mic)\n",
    "        tts=gTTS(listening)\n",
    "        print(\"process is going on\")\n",
    "        result=recognizer.recognize_google(listening,language=\"En\")\n",
    "        tts.save(\"output1.mp3\")\n",
    "        mixer.music.set_volume(1)\n",
    "        mixer.music.load('output1.mp3')\n",
    "        mixer.music.play()\n",
    "    while mixer.music.get_busy():\n",
    "        pass\n",
    "    mixer.music.load('output.mp3')\n",
    "    os.remove('output1.mp3')"
   ]
  },
  {
   "cell_type": "code",
   "execution_count": null,
   "id": "d7b817a5",
   "metadata": {},
   "outputs": [],
   "source": []
  }
 ],
 "metadata": {
  "kernelspec": {
   "display_name": "Python 3 (ipykernel)",
   "language": "python",
   "name": "python3"
  },
  "language_info": {
   "codemirror_mode": {
    "name": "ipython",
    "version": 3
   },
   "file_extension": ".py",
   "mimetype": "text/x-python",
   "name": "python",
   "nbconvert_exporter": "python",
   "pygments_lexer": "ipython3",
   "version": "3.9.12"
  }
 },
 "nbformat": 4,
 "nbformat_minor": 5
}
