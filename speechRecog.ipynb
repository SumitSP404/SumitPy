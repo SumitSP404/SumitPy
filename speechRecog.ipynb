{
 "cells": [
  {
   "cell_type": "code",
   "execution_count": 2,
   "id": "f0687816",
   "metadata": {},
   "outputs": [
    {
     "name": "stdout",
     "output_type": "stream",
     "text": [
      "say something!…\n",
      "the audio has been recorded\n",
      "api is enabled\n",
      "result2:\n",
      "[]\n",
      "Google Speech Recognition could not understand audio\n"
     ]
    }
   ],
   "source": [
    "import speech_recognition as sr\n",
    "from gtts import gTTS\n",
    "from pygame import mixer\n",
    "import os\n",
    "recognizer = sr.Recognizer()\n",
    "mic = sr.Microphone()\n",
    "mixer.init()\n",
    "mixer.music.load('test.mp3')\n",
    "recog = ''\n",
    "with mic as source:\n",
    "    print(\"say something!…\")\n",
    "    audio = recognizer.adjust_for_ambient_noise(source)\n",
    "    audio = recognizer.listen(source, 10, 3)\n",
    "    print(\"the audio has been recorded\")\n",
    "# Speech recognition using Google Speech Recognition\n",
    "    try:\n",
    "        print(\"api is enabled\")\n",
    "        recog = recognizer.recognize_google(audio, language = 'en-US')\n",
    "        # for testing purposes, we're just using the default API key\n",
    "        # to use another API key, use r.recognize_google(audio)\n",
    "        # instead of r.recognize_google(audio)\n",
    "\n",
    "        print(\"You said: \" + recog)\n",
    "        var = recog\n",
    "        tts = gTTS(var)\n",
    "        tts.save(\"output.mp3\")\n",
    "        mixer.music.load('output.mp3')\n",
    "        mixer.music.play()\n",
    "        while mixer.music.get_busy():\n",
    "             pass\n",
    "        mixer.music.load('test.mp3')\n",
    "        os.remove(\"output.mp3\")\n",
    "    except sr.UnknownValueError:\n",
    "        print(\"Google Speech Recognition could not understand audio\")\n",
    "    except sr.RequestError as e:\n",
    "        print(\"Could not request results from Google Speech Recognition service; {0}\".format(e))\n",
    "    "
   ]
  },
  {
   "cell_type": "code",
   "execution_count": null,
   "id": "ce6a22d4",
   "metadata": {},
   "outputs": [],
   "source": []
  },
  {
   "cell_type": "code",
   "execution_count": null,
   "id": "0696d745",
   "metadata": {},
   "outputs": [],
   "source": []
  }
 ],
 "metadata": {
  "kernelspec": {
   "display_name": "Python 3 (ipykernel)",
   "language": "python",
   "name": "python3"
  },
  "language_info": {
   "codemirror_mode": {
    "name": "ipython",
    "version": 3
   },
   "file_extension": ".py",
   "mimetype": "text/x-python",
   "name": "python",
   "nbconvert_exporter": "python",
   "pygments_lexer": "ipython3",
   "version": "3.9.12"
  }
 },
 "nbformat": 4,
 "nbformat_minor": 5
}
